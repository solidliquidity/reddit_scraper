{
 "cells": [
  {
   "cell_type": "code",
   "execution_count": null,
   "metadata": {},
   "outputs": [
    {
     "name": "stdout",
     "output_type": "stream",
     "text": [
      "Warning - Certain functionality \n",
      "             requires requests_html, which is not installed.\n",
      "             \n",
      "             Install using: \n",
      "             pip install requests_html\n",
      "             \n",
      "             After installation, you may have to restart your Python session.\n"
     ]
    }
   ],
   "source": [
    "from redditscraper import RedditScraper, SentimentAnalyzer\n",
    "import os\n",
    "from dotenv import load_dotenv\n",
    "from datetime import datetime\n",
    "# Load environment variables from .env file\n",
    "load_dotenv()\n",
    "\n",
    "# Use environment variables\n",
    "reddit_scraper = RedditScraper(\n",
    "    client_id=os.getenv(\"CLIENT_ID\"),\n",
    "    client_secret=os.getenv(\"CLIENT_SECRET\"),\n",
    "    user_agent=os.getenv(\"USER_AGENT\"),\n",
    "    subreddit_name=\"wallstreetbets\"\n",
    ")\n",
    "\n",
    "posts_df = reddit_scraper.fetch_posts(limit=10)\n",
    "posts_df['Time Stamp'] = posts_df['Created (UTC)'].apply(lambda x: datetime.utcfromtimestamp(x))\n",
    "flairs = {'Daily Discussion', 'Discussion', 'Earnings Thread', 'News'}\n",
    "filtered_posts = posts_df[posts_df['Flair'].isin(flairs)].reset_index(drop=True)\n",
    "\n",
    "detailed_post_df = reddit_scraper.fetch_detailed_post(filtered_posts.iloc[0]['Permalink'])\n",
    "\n",
    "comments_df = reddit_scraper.fetch_comments(filtered_posts.iloc[0]['Permalink'])\n",
    "comments_df['Tickers'] = comments_df['Comment Body'].apply(lambda x: list(set(re.findall(r'\\b[A-Z]{2,5}\\b', x))))\n",
    "comments_df['Has Tickers'] = comments_df['Tickers'].apply(lambda x: len(x) > 0)\n",
    "comments_with_tickers = comments_df[comments_df['Has Tickers']].reset_index(drop=True)\n",
    "\n",
    "comments_with_tickers['Textblob Sentiment'] = comments_with_tickers['Comment Body'].apply(\n",
    "    lambda x: SentimentAnalyzer.analyse_sentiment(x)\n",
    ")\n",
    "\n",
    "print(comments_with_tickers[comments_with_tickers['Textblob Sentiment'] > 0])\n",
    "\n"
   ]
  },
  {
   "cell_type": "code",
   "execution_count": null,
   "metadata": {},
   "outputs": [],
   "source": []
  },
  {
   "cell_type": "code",
   "execution_count": 3,
   "metadata": {},
   "outputs": [
    {
     "name": "stdout",
     "output_type": "stream",
     "text": [
      "Requirement already satisfied: requests_html in /Users/solidliquidity/.pyenv/versions/3.11.6/lib/python3.11/site-packages (0.10.0)\n",
      "Requirement already satisfied: requests in /Users/solidliquidity/.pyenv/versions/3.11.6/lib/python3.11/site-packages (from requests_html) (2.32.3)\n",
      "Requirement already satisfied: pyquery in /Users/solidliquidity/.pyenv/versions/3.11.6/lib/python3.11/site-packages (from requests_html) (2.0.1)\n",
      "Requirement already satisfied: fake-useragent in /Users/solidliquidity/.pyenv/versions/3.11.6/lib/python3.11/site-packages (from requests_html) (1.5.1)\n",
      "Requirement already satisfied: parse in /Users/solidliquidity/.pyenv/versions/3.11.6/lib/python3.11/site-packages (from requests_html) (1.20.2)\n",
      "Requirement already satisfied: bs4 in /Users/solidliquidity/.pyenv/versions/3.11.6/lib/python3.11/site-packages (from requests_html) (0.0.2)\n",
      "Requirement already satisfied: w3lib in /Users/solidliquidity/.pyenv/versions/3.11.6/lib/python3.11/site-packages (from requests_html) (2.2.1)\n",
      "Requirement already satisfied: pyppeteer>=0.0.14 in /Users/solidliquidity/.pyenv/versions/3.11.6/lib/python3.11/site-packages (from requests_html) (2.0.0)\n",
      "Requirement already satisfied: appdirs<2.0.0,>=1.4.3 in /Users/solidliquidity/.pyenv/versions/3.11.6/lib/python3.11/site-packages (from pyppeteer>=0.0.14->requests_html) (1.4.4)\n",
      "Requirement already satisfied: certifi>=2023 in /Users/solidliquidity/.pyenv/versions/3.11.6/lib/python3.11/site-packages (from pyppeteer>=0.0.14->requests_html) (2024.8.30)\n",
      "Requirement already satisfied: importlib-metadata>=1.4 in /Users/solidliquidity/.pyenv/versions/3.11.6/lib/python3.11/site-packages (from pyppeteer>=0.0.14->requests_html) (8.5.0)\n",
      "Requirement already satisfied: pyee<12.0.0,>=11.0.0 in /Users/solidliquidity/.pyenv/versions/3.11.6/lib/python3.11/site-packages (from pyppeteer>=0.0.14->requests_html) (11.1.1)\n",
      "Requirement already satisfied: tqdm<5.0.0,>=4.42.1 in /Users/solidliquidity/.pyenv/versions/3.11.6/lib/python3.11/site-packages (from pyppeteer>=0.0.14->requests_html) (4.67.0)\n",
      "Requirement already satisfied: urllib3<2.0.0,>=1.25.8 in /Users/solidliquidity/.pyenv/versions/3.11.6/lib/python3.11/site-packages (from pyppeteer>=0.0.14->requests_html) (1.26.20)\n",
      "Requirement already satisfied: websockets<11.0,>=10.0 in /Users/solidliquidity/.pyenv/versions/3.11.6/lib/python3.11/site-packages (from pyppeteer>=0.0.14->requests_html) (10.4)\n",
      "Requirement already satisfied: beautifulsoup4 in /Users/solidliquidity/.pyenv/versions/3.11.6/lib/python3.11/site-packages (from bs4->requests_html) (4.12.3)\n",
      "Requirement already satisfied: lxml>=2.1 in /Users/solidliquidity/.pyenv/versions/3.11.6/lib/python3.11/site-packages (from pyquery->requests_html) (5.3.0)\n",
      "Requirement already satisfied: cssselect>=1.2.0 in /Users/solidliquidity/.pyenv/versions/3.11.6/lib/python3.11/site-packages (from pyquery->requests_html) (1.2.0)\n",
      "Requirement already satisfied: charset-normalizer<4,>=2 in /Users/solidliquidity/.pyenv/versions/3.11.6/lib/python3.11/site-packages (from requests->requests_html) (3.4.0)\n",
      "Requirement already satisfied: idna<4,>=2.5 in /Users/solidliquidity/.pyenv/versions/3.11.6/lib/python3.11/site-packages (from requests->requests_html) (3.10)\n",
      "Requirement already satisfied: zipp>=3.20 in /Users/solidliquidity/.pyenv/versions/3.11.6/lib/python3.11/site-packages (from importlib-metadata>=1.4->pyppeteer>=0.0.14->requests_html) (3.21.0)\n",
      "Requirement already satisfied: typing-extensions in /Users/solidliquidity/.pyenv/versions/3.11.6/lib/python3.11/site-packages (from pyee<12.0.0,>=11.0.0->pyppeteer>=0.0.14->requests_html) (4.12.2)\n",
      "Requirement already satisfied: soupsieve>1.2 in /Users/solidliquidity/.pyenv/versions/3.11.6/lib/python3.11/site-packages (from beautifulsoup4->bs4->requests_html) (2.6)\n",
      "\n",
      "\u001b[1m[\u001b[0m\u001b[34;49mnotice\u001b[0m\u001b[1;39;49m]\u001b[0m\u001b[39;49m A new release of pip is available: \u001b[0m\u001b[31;49m23.2.1\u001b[0m\u001b[39;49m -> \u001b[0m\u001b[32;49m24.3.1\u001b[0m\n",
      "\u001b[1m[\u001b[0m\u001b[34;49mnotice\u001b[0m\u001b[1;39;49m]\u001b[0m\u001b[39;49m To update, run: \u001b[0m\u001b[32;49mpip install --upgrade pip\u001b[0m\n",
      "Note: you may need to restart the kernel to use updated packages.\n"
     ]
    }
   ],
   "source": [
    "pip install requests_html\n"
   ]
  },
  {
   "cell_type": "code",
   "execution_count": null,
   "metadata": {},
   "outputs": [],
   "source": []
  },
  {
   "cell_type": "code",
   "execution_count": null,
   "metadata": {},
   "outputs": [],
   "source": []
  },
  {
   "cell_type": "code",
   "execution_count": null,
   "metadata": {},
   "outputs": [],
   "source": []
  },
  {
   "cell_type": "code",
   "execution_count": null,
   "metadata": {},
   "outputs": [],
   "source": []
  }
 ],
 "metadata": {
  "kernelspec": {
   "display_name": "Python 3",
   "language": "python",
   "name": "python3"
  },
  "language_info": {
   "codemirror_mode": {
    "name": "ipython",
    "version": 3
   },
   "file_extension": ".py",
   "mimetype": "text/x-python",
   "name": "python",
   "nbconvert_exporter": "python",
   "pygments_lexer": "ipython3",
   "version": "3.11.6"
  }
 },
 "nbformat": 4,
 "nbformat_minor": 2
}
