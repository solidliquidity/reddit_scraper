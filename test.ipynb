{
 "cells": [
  {
   "cell_type": "code",
   "execution_count": null,
   "metadata": {},
   "outputs": [],
   "source": [
    "from redditscraper import RedditScraper, SentimentAnalyzer\n",
    "import os\n",
    "from dotenv import load_dotenv\n",
    "from datetime import datetime\n",
    "# Load environment variables from .env file\n",
    "load_dotenv()\n",
    "\n",
    "# Use environment variables\n",
    "reddit_scraper = RedditScraper(\n",
    "    client_id=os.getenv(\"CLIENT_ID\"),\n",
    "    client_secret=os.getenv(\"CLIENT_SECRET\"),\n",
    "    user_agent=os.getenv(\"USER_AGENT\"),\n",
    "    subreddit_name=\"wallstreetbets\"\n",
    ")\n",
    "\n",
    "posts_df = reddit_scraper.fetch_posts(limit=10)\n",
    "posts_df['Time Stamp'] = posts_df['Created (UTC)'].apply(lambda x: datetime.utcfromtimestamp(x))\n",
    "flairs = {'Daily Discussion', 'Discussion', 'Earnings Thread', 'News'}\n",
    "filtered_posts = posts_df[posts_df['Flair'].isin(flairs)].reset_index(drop=True)\n",
    "\n",
    "detailed_post_df = reddit_scraper.fetch_detailed_post(filtered_posts.iloc[0]['Permalink'])\n",
    "\n",
    "comments_df = reddit_scraper.fetch_comments(filtered_posts.iloc[0]['Permalink'])\n",
    "comments_df['Tickers'] = comments_df['Comment Body'].apply(lambda x: list(set(re.findall(r'\\b[A-Z]{2,5}\\b', x))))\n",
    "comments_df['Has Tickers'] = comments_df['Tickers'].apply(lambda x: len(x) > 0)\n",
    "comments_with_tickers = comments_df[comments_df['Has Tickers']].reset_index(drop=True)\n",
    "\n",
    "comments_with_tickers['Textblob Sentiment'] = comments_with_tickers['Comment Body'].apply(\n",
    "    lambda x: SentimentAnalyzer.analyse_sentiment(x)\n",
    ")\n",
    "\n",
    "print(comments_with_tickers[comments_with_tickers['Textblob Sentiment'] > 0])\n",
    "\n"
   ]
  }
 ],
 "metadata": {
  "language_info": {
   "name": "python"
  }
 },
 "nbformat": 4,
 "nbformat_minor": 2
}
